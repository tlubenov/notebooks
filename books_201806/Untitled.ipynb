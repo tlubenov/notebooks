{
 "cells": [
  {
   "cell_type": "code",
   "execution_count": 1,
   "metadata": {},
   "outputs": [],
   "source": [
    "import os, sys, glob, time"
   ]
  },
  {
   "cell_type": "code",
   "execution_count": 7,
   "metadata": {},
   "outputs": [],
   "source": [
    "path = '/home/mapuser/ai_imagery/NearMaps/us_lbl_images_pngs_21_masks/'\n",
    "pattern = '{}*.map'.format(path)\n",
    "#a = glob.glob('/home/mapuser/ai_imagery/NearMaps/*.map')\n",
    "a = glob.glob(pattern)\n"
   ]
  },
  {
   "cell_type": "code",
   "execution_count": 9,
   "metadata": {},
   "outputs": [
    {
     "name": "stdout",
     "output_type": "stream",
     "text": [
      "91566\n"
     ]
    }
   ],
   "source": [
    "print(len(a))\n",
    "\n",
    "os.chdir(path)"
   ]
  },
  {
   "cell_type": "code",
   "execution_count": 11,
   "metadata": {},
   "outputs": [
    {
     "data": {
      "text/plain": [
       "'/home/mapuser/ai_imagery/NearMaps/us_lbl_images_pngs_21_masks'"
      ]
     },
     "execution_count": 11,
     "metadata": {},
     "output_type": "execute_result"
    }
   ],
   "source": [
    "os.getcwd()"
   ]
  },
  {
   "cell_type": "code",
   "execution_count": 20,
   "metadata": {},
   "outputs": [],
   "source": [
    "path = '/home/mapuser/ai_imagery/NearMaps/bldgs/'\n",
    "pattern = '{}*bldid*.png'.format(path)\n",
    "\n",
    "bldgs = glob.glob(pattern)\n",
    "\n",
    "pattern_i = '{}*_mask.png'.format(path)\n",
    "\n",
    "masks = glob.glob(pattern_i)"
   ]
  },
  {
   "cell_type": "code",
   "execution_count": 21,
   "metadata": {},
   "outputs": [
    {
     "name": "stdout",
     "output_type": "stream",
     "text": [
      "(66579, 24976)\n"
     ]
    }
   ],
   "source": [
    "print(len(bldgs), len(masks))"
   ]
  },
  {
   "cell_type": "code",
   "execution_count": 2,
   "metadata": {},
   "outputs": [
    {
     "name": "stderr",
     "output_type": "stream",
     "text": [
      "/home/mapuser/ai_imagery/py36_venv/lib/python3.6/site-packages/h5py/__init__.py:36: FutureWarning: Conversion of the second argument of issubdtype from `float` to `np.floating` is deprecated. In future, it will be treated as `np.float64 == np.dtype(float).type`.\n",
      "  from ._conv import register_converters as _register_converters\n"
     ]
    }
   ],
   "source": [
    "import numpy as np\n",
    "import h5py\n"
   ]
  },
  {
   "cell_type": "code",
   "execution_count": 31,
   "metadata": {},
   "outputs": [
    {
     "name": "stdout",
     "output_type": "stream",
     "text": [
      "19790.958684\n"
     ]
    }
   ],
   "source": [
    "import subprocess, ntpath\n",
    "\n",
    "\n",
    "bege = time.time()\n",
    "for el in a:\n",
    "#    maper = '{}.png'.format(el.split('.')[0])\n",
    "    \n",
    "    head, tail = ntpath.split(el)\n",
    "    #print(head, tail)\n",
    "    rooter = head.split('/')\n",
    "    aaa = rooter[:-1]\n",
    "    rr = '/'.join(aaa)\n",
    "#    print(rr)\n",
    "    tail_png = '{}.png'.format(tail.split('.')[0])\n",
    "#    print(tail_png)\n",
    "    \n",
    "    maper = '{}/bldgs/{}'.format(rr, tail_png)\n",
    "    \n",
    "    process_line = 'shp2img -m {el} -o {proto} -all_debug 8'.format(el = el, proto = maper)\n",
    "    \n",
    "#    print(process_line)\n",
    "#    print('\\n')\n",
    "    cmd = process_line\n",
    "    PIPE = subprocess.PIPE\n",
    "    bufsize = -1\n",
    "    p = subprocess.Popen(\n",
    "        cmd, \n",
    "        shell=isinstance(cmd, basestring), \n",
    "        bufsize=bufsize, \n",
    "        stdin=PIPE, \n",
    "        stdout=PIPE, \n",
    "        stderr=PIPE, \n",
    "        close_fds=True\n",
    "    )\n",
    "    p.wait()\n",
    "    \n",
    "    \n",
    "    #\n",
    "    #(child_stdin, child_stdout,child_stderr) = os.popen3(process_line)#, mode, bufsize)\n",
    "    #    print(child_stderr)\n",
    "ende = time.time()\n",
    "diff = ende - bege\n",
    "print(diff)"
   ]
  },
  {
   "cell_type": "code",
   "execution_count": 22,
   "metadata": {},
   "outputs": [
    {
     "name": "stdout",
     "output_type": "stream",
     "text": [
      "5.1.0\n"
     ]
    }
   ],
   "source": [
    "from PIL import Image\n",
    "import PIL, sys, os\n",
    "\n",
    "print(PIL.__version__)"
   ]
  },
  {
   "cell_type": "code",
   "execution_count": 25,
   "metadata": {},
   "outputs": [
    {
     "name": "stdout",
     "output_type": "stream",
     "text": [
      "2586.38966084\n",
      "(1, 0)\n"
     ]
    }
   ],
   "source": [
    "beg = time.time()\n",
    "inner_images = 0\n",
    "whole_images = 0\n",
    "\n",
    "for img in bldgs:\n",
    "    image = Image.open(img)\n",
    "    image.load()\n",
    "    width, height = image.size\n",
    "    left, upper, right, lower = image.getbbox()\n",
    "    \n",
    "    \n",
    "\n",
    "\n",
    "    if left > 0 and upper < height and right < width and lower > 0:\n",
    "#        print('Inner Image')\n",
    "        inner_images += 1\n",
    "\n",
    "    if left == 0 and upper == height and right == width and lower == 0:\n",
    "#        print('Whole Image')\n",
    "        whole_images += 1\n",
    "end = time.time()\n",
    "coster = end - beg\n",
    "print(coster)\n",
    "print(inner_images, whole_images)"
   ]
  },
  {
   "cell_type": "code",
   "execution_count": null,
   "metadata": {},
   "outputs": [],
   "source": []
  },
  {
   "cell_type": "code",
   "execution_count": 15,
   "metadata": {},
   "outputs": [
    {
     "name": "stdout",
     "output_type": "stream",
     "text": [
      "((800, 968), (0, 630, 4, 643), (<PIL.Image.Image image mode=L size=800x968 at 0x7F2730E28D10>, <PIL.Image.Image image mode=L size=800x968 at 0x7F2730E28D50>, <PIL.Image.Image image mode=L size=800x968 at 0x7F2730E28E10>))\n",
      "(0, 630, 4, 643)\n",
      "(0, 630, 4, 643)\n",
      "(0, 630, 4, 643)\n"
     ]
    }
   ],
   "source": [
    "image = Image.open('../bldgs/nm_rooftop_40dot76261100_-73dot72373200_21dot00_800x800_Mar192016_mask_bldid_97885.png')\n",
    "image.load()\n",
    "\n",
    "imageSize = image.size\n",
    "width, height = image.size\n",
    "imageBox = image.getbbox()\n",
    "left, upper, right, lower = image.getbbox()\n",
    "\n",
    "inner_images = 0\n",
    "whole_images = 0\n",
    "\n",
    "if left > 0 and upper < height and right < width and lower > 0:\n",
    "    print('Inner Image')\n",
    "    inner_images += 1\n",
    "\n",
    "if left = 0 and upper = height and right = width and lower = 0:\n",
    "    print('Whole Image')\n",
    "    whole_images += 1\n",
    "\n",
    "imageComponents = image.split()\n",
    "\n",
    "print(imageSize, imageBox, imageComponents)\n",
    "print(left, upper, right, lower)\n",
    "\n",
    "rgbImage = Image.new(\"RGB\", imageSize, (0,0,0))\n",
    "rgbImage.paste(image, mask=imageComponents[-1])\n",
    "croppedBox = rgbImage.getbbox()\n",
    "\n",
    "print imageBox\n",
    "print croppedBox\n",
    "cropped = image.crop(croppedBox)\n",
    "\n",
    "cropped.save('../cropped/test.png')\n",
    "if imageBox != croppedBox:\n",
    "    cropped=image.crop(croppedBox)\n",
    "    print 'img.png:', \"Size:\", imageSize, \"New Size:\",croppedBox\n",
    "    cropped.save('../cropped/L_2d_cropped.png')\n"
   ]
  },
  {
   "cell_type": "code",
   "execution_count": 14,
   "metadata": {},
   "outputs": [
    {
     "name": "stdout",
     "output_type": "stream",
     "text": [
      "(0, 0, 4, 13)\n"
     ]
    }
   ],
   "source": [
    "imager = Image.open('../cropped/test.png')\n",
    "imager.load()\n",
    "imagerBox = imager.getbbox()\n",
    "\n",
    "print(imagerBox)"
   ]
  },
  {
   "cell_type": "code",
   "execution_count": null,
   "metadata": {},
   "outputs": [],
   "source": [
    "(0, 800, 0, 968)\n",
    "\n",
    "getbbox = The bounding box is returned as a 4-tuple defining the \n",
    "left, upper, right, and lower pixel coordinate. \n",
    "If the image is completely empty, this method returns None.\n",
    "\n",
    "left, upper, right, lower = image.getbbox()\n"
   ]
  }
 ],
 "metadata": {
  "kernelspec": {
   "display_name": "Python 3",
   "language": "python",
   "name": "python3"
  },
  "language_info": {
   "codemirror_mode": {
    "name": "ipython",
    "version": 3
   },
   "file_extension": ".py",
   "mimetype": "text/x-python",
   "name": "python",
   "nbconvert_exporter": "python",
   "pygments_lexer": "ipython3",
   "version": "3.6.5"
  }
 },
 "nbformat": 4,
 "nbformat_minor": 2
}
