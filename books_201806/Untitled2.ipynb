{
 "cells": [
  {
   "cell_type": "code",
   "execution_count": 22,
   "metadata": {},
   "outputs": [
    {
     "name": "stdout",
     "output_type": "stream",
     "text": [
      "platform: ('64bit', 'ELF')\n",
      "('Ubuntu', '18.04', 'bionic')\n",
      "x86_64\n",
      "mapuser-ThinkPad-X220\n",
      "Linux-4.15.0-22-generic-x86_64-with-Ubuntu-18.04-bionic\n",
      "pandas: 0.22.0\n",
      "scipy: 1.1.0\n",
      "sys: \n",
      "h5py: 2.7.1\n",
      "glob: \n",
      "time: \n",
      "\n",
      "seaborn: 0.8.1\n",
      "matplotlib 2.2.2\n",
      "PIL 5.1.0\n",
      "numpy 1.14.3\n",
      "cv2 3.4.0\n"
     ]
    }
   ],
   "source": [
    "\n",
    "import os, sys, h5py, glob, time, matplotlib, PIL, cv2, platform\n",
    "import scipy\n",
    "import seaborn as sns\n",
    "import pandas as pd\n",
    "import numpy as np\n",
    "from matplotlib import pyplot as plt\n",
    "from PIL import Image\n",
    "\n",
    "\n",
    "print('platform: {}'.format(platform.architecture()))\n",
    "print(platform.linux_distribution())\n",
    "print(platform.machine())\n",
    "print(platform.node())\n",
    "print(platform.platform())\n",
    "\n",
    "print('pandas: {pandas}\\nscipy: {scipy}\\nsys: {sys}\\nh5py: {h5py}\\nglob: {globen}\\ntime: {timen}'.format(\n",
    "    pandas = pd.__version__,\n",
    "    scipy = scipy.__version__,\n",
    "    sys = '',\n",
    "    h5py = h5py.__version__,\n",
    "    globen = '',\n",
    "    timen = ''\n",
    "))\n",
    "\n",
    "print('\\nseaborn: {seaborn}\\nmatplotlib {matplotlib}\\nPIL {PIL}\\nnumpy {numpy}\\ncv2 {cv2}'.format(\n",
    "    seaborn = sns.__version__,\n",
    "    matplotlib = matplotlib.__version__,\n",
    "    PIL = PIL.__version__,\n",
    "    numpy = np.__version__,\n",
    "    cv2 = cv2.__version__\n",
    "))\n",
    "\n"
   ]
  },
  {
   "cell_type": "code",
   "execution_count": 28,
   "metadata": {},
   "outputs": [
    {
     "data": {
      "text/plain": [
       "2"
      ]
     },
     "execution_count": 28,
     "metadata": {},
     "output_type": "execute_result"
    }
   ],
   "source": [
    "x = iter([1,2,3,4,5,6,7,8])\n",
    "\n",
    "x\n",
    "\n",
    "next(x)\n",
    "next(x)"
   ]
  },
  {
   "cell_type": "code",
   "execution_count": 29,
   "metadata": {},
   "outputs": [
    {
     "data": {
      "text/plain": [
       "3"
      ]
     },
     "execution_count": 29,
     "metadata": {},
     "output_type": "execute_result"
    }
   ],
   "source": [
    "next(x)"
   ]
  },
  {
   "cell_type": "code",
   "execution_count": 30,
   "metadata": {},
   "outputs": [
    {
     "data": {
      "text/plain": [
       "4"
      ]
     },
     "execution_count": 30,
     "metadata": {},
     "output_type": "execute_result"
    }
   ],
   "source": [
    "next(x)"
   ]
  },
  {
   "cell_type": "code",
   "execution_count": 31,
   "metadata": {},
   "outputs": [
    {
     "data": {
      "text/plain": [
       "5"
      ]
     },
     "execution_count": 31,
     "metadata": {},
     "output_type": "execute_result"
    }
   ],
   "source": [
    "next(x)"
   ]
  },
  {
   "cell_type": "code",
   "execution_count": 33,
   "metadata": {},
   "outputs": [
    {
     "name": "stdout",
     "output_type": "stream",
     "text": [
      "['3.6.5 (default, Apr  1 2018, 05:46:30) ', '[GCC 7.3.0]']\n",
      "('Ubuntu', '18.04', 'bionic')\n",
      "Linux\n",
      "x86_64\n",
      "Linux-4.15.0-22-generic-x86_64-with-Ubuntu-18.04-bionic\n",
      "uname_result(system='Linux', node='mapuser-ThinkPad-X220', release='4.15.0-22-generic', version='#24-Ubuntu SMP Wed May 16 12:15:17 UTC 2018', machine='x86_64', processor='x86_64')\n",
      "#24-Ubuntu SMP Wed May 16 12:15:17 UTC 2018\n",
      "('', ('', '', ''), '')\n"
     ]
    }
   ],
   "source": [
    "print(sys.version.split('\\n'))\n",
    "\n",
    "print(str(platform.dist()))\n",
    "#print(linux_distribution())\n",
    "print(platform.system())\n",
    "\n",
    "print(platform.machine())\n",
    "\n",
    "print(platform.platform())\n",
    "\n",
    "print(platform.uname())\n",
    "\n",
    "print(platform.version())\n",
    "\n",
    "print(platform.mac_ver())"
   ]
  },
  {
   "cell_type": "markdown",
   "metadata": {},
   "source": [
    "\n",
    "https://stackoverflow.com/questions/2776829/difference-between-pythons-generators-and-iterators\n",
    "\n",
    "https://stackoverflow.com/questions/14718135/how-can-i-tell-which-python-implementation-im-using\n",
    "\n",
    "https://thelinuxexperiment.com/create-a-virtual-hard-drive-volume-within-a-file-in-linux/\n",
    "\n",
    "https://www.programiz.com/python-programming/generator\n",
    "\n",
    "https://www.tutorialspoint.com/python/python_multithreading.htm\n",
    "\n",
    "http://machinelearninguru.com/deep_learning/data_preparation/hdf5/hdf5.html\n",
    "\n",
    "https://medium.com/@ageitgey/quick-tip-speed-up-your-python-data-processing-scripts-with-process-pools-cf275350163a\n",
    "\n",
    "https://stackoverflow.com/questions/44078327/fastest-approach-to-read-thousands-of-images-into-one-big-numpy-array\n",
    "\n",
    "https://wiki.python.org/moin/Generators\n",
    "\n",
    "http://christopherlovell.co.uk/blog/2017/03/04/ssh-jupyter.html\n",
    "\n",
    "https://jekyllrb.com/docs/usage/\n",
    "\n",
    "https://jeffknupp.com/blog/2013/04/07/improve-your-python-yield-and-generators-explained/\n",
    "\n",
    "https://anandology.com/python-practice-book/iterators.html\n",
    "\n",
    "https://stackoverflow.com/questions/21594302/is-there-a-way-to-remember-the-position-in-a-python-iterator\n",
    "\n",
    "http://christopherlovell.co.uk/\n",
    "\n",
    "\n",
    "\n",
    "\n",
    "\n"
   ]
  }
 ],
 "metadata": {
  "kernelspec": {
   "display_name": "Python 3",
   "language": "python",
   "name": "python3"
  },
  "language_info": {
   "codemirror_mode": {
    "name": "ipython",
    "version": 3
   },
   "file_extension": ".py",
   "mimetype": "text/x-python",
   "name": "python",
   "nbconvert_exporter": "python",
   "pygments_lexer": "ipython3",
   "version": "3.6.5"
  }
 },
 "nbformat": 4,
 "nbformat_minor": 2
}
