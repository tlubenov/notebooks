{
 "cells": [
  {
   "cell_type": "code",
   "execution_count": 1,
   "metadata": {},
   "outputs": [],
   "source": [
    "import os, sys, shutil, glob, string, ntpath"
   ]
  },
  {
   "cell_type": "code",
   "execution_count": 2,
   "metadata": {},
   "outputs": [],
   "source": [
    "path = '/home/mapuser/ai_imagery/NearMaps/bldgs/'\n",
    "path = '/home/mapuser/ai_imagery/NearMaps/bldgs_0_35000/'\n",
    "pattern = '{}*bldid*.png'.format(path)\n",
    "\n",
    "bldgs = glob.glob(pattern)\n",
    "\n",
    "pattern_i = '{}*_mask.png'.format(path)\n",
    "\n",
    "masks = glob.glob(pattern_i)"
   ]
  },
  {
   "cell_type": "code",
   "execution_count": 3,
   "metadata": {},
   "outputs": [],
   "source": [
    "for el in masks[:5]:\n",
    "    print(el)\n"
   ]
  },
  {
   "cell_type": "code",
   "execution_count": 4,
   "metadata": {},
   "outputs": [],
   "source": [
    "\n",
    "for mask in masks:\n",
    "    head, tail = ntpath.split(mask)\n",
    "    rooter = head.split('/')\n",
    "    aaa = rooter[:-1]\n",
    "    rr = '/'.join(aaa)\n",
    "    tail_png = '{}.png'.format(tail.split('.')[0])\n",
    "    dst_folder = '{}/bldgs_masks/'.format(rr)\n",
    "    print(dst_folder)\n",
    "    maper = '{}{}'.format(dst_folder,tail_png)\n",
    "    \n",
    "    try:\n",
    "        if os.path.isdir(dst_folder):\n",
    "            pass\n",
    "        else:\n",
    "            print('{} folder does not exists'.format(dst_folder))\n",
    "            os.makedirs(dst_folder)\n",
    "    except Exception as ex:\n",
    "        print(ex)\n",
    "    finally:\n",
    "        mask_dst_fldr = maper\n",
    "        shutil.move(mask, mask_dst_fldr)\n",
    "    \n",
    "#    print(tail_png, maper)\n"
   ]
  },
  {
   "cell_type": "code",
   "execution_count": null,
   "metadata": {},
   "outputs": [],
   "source": []
  },
  {
   "cell_type": "markdown",
   "metadata": {},
   "source": [
    "http://christopherlovell.co.uk/blog/2016/04/27/h5py-intro.html"
   ]
  },
  {
   "cell_type": "code",
   "execution_count": null,
   "metadata": {},
   "outputs": [],
   "source": [
    "\n",
    "for mask in mask_files:\n",
    "    # Get Mask Base File\n",
    "    file_mask_name = os.path.basename(mask)\n",
    "    # Generate Prototype name\n",
    "    proto_name = file_mask_name.replace('_mask.png', '')\n",
    "\n",
    "    if os.path.isdir(dst_folder + proto_name):\n",
    "        mask_dst_fldr = dst_folder + proto_name + '/' + file_mask_name\n",
    "        shutil.move(mask, mask_dst_fldr)\n",
    "#        print(mask, mask_dst_fldr)\n",
    "        print('duplicate but move')\n",
    "\n",
    "\n",
    "        srs_img = srs_imgs + proto_name + '.png'\n",
    "        if os.path.isfile(srs_img):\n",
    "            img = os.path.basename(srs_img)\n",
    "            dst_img = dst_folder + proto_name + '/' + img\n",
    "            print(srs_img, dst_img)\n",
    "            shutil.move(srs_img, dst_img)\n",
    "        else:\n",
    "            err_msg = 'missing {}'.format(srs_img)\n",
    "            logging.error(err_msg)\n",
    "    else:\n",
    "        try:\n",
    "            os.makedirs(dst_folder + proto_name)\n",
    "            mask_dst_fldr = dst_folder + proto_name + '/' + file_mask_name\n",
    "            shutil.move(mask, mask_dst_fldr)\n",
    "\n",
    "            srs_img = srs_imgs + proto_name + '.png'\n",
    "            if os.path.isfile(srs_img):\n",
    "                img = os.path.basename(srs_img)\n",
    "                dst_img = dst_folder + proto_name + '/' + img\n",
    "                shutil.move(srs_img, dst_img)\n",
    "            else:\n",
    "                err_msg = 'missing {}'.format(srs_img)\n",
    "                logging.error(err_msg)\n",
    "        except Exception as ex:\n",
    "            logging.error(str(ex))"
   ]
  },
  {
   "cell_type": "code",
   "execution_count": null,
   "metadata": {},
   "outputs": [],
   "source": []
  }
 ],
 "metadata": {
  "kernelspec": {
   "display_name": "Python 3",
   "language": "python",
   "name": "python3"
  },
  "language_info": {
   "codemirror_mode": {
    "name": "ipython",
    "version": 3
   },
   "file_extension": ".py",
   "mimetype": "text/x-python",
   "name": "python",
   "nbconvert_exporter": "python",
   "pygments_lexer": "ipython3",
   "version": "3.6.5"
  }
 },
 "nbformat": 4,
 "nbformat_minor": 2
}
